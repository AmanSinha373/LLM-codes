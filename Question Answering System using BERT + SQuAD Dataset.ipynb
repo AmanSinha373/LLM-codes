{
 "cells": [
  {
   "cell_type": "markdown",
   "id": "dd8367f9-1d4d-4ff2-a2d4-fbbe9d4e01c5",
   "metadata": {},
   "source": [
    "# Load the Question Answering Pipeline"
   ]
  },
  {
   "cell_type": "code",
   "execution_count": 2,
   "id": "a4407fcf-8c83-4e68-955d-bf3dc8c8b3e2",
   "metadata": {},
   "outputs": [
    {
     "name": "stdout",
     "output_type": "stream",
     "text": [
      "WARNING:tensorflow:From C:\\Users\\Aman Sinha\\AppData\\Local\\Programs\\Python\\Python311\\Lib\\site-packages\\keras\\src\\losses.py:2976: The name tf.losses.sparse_softmax_cross_entropy is deprecated. Please use tf.compat.v1.losses.sparse_softmax_cross_entropy instead.\n",
      "\n"
     ]
    },
    {
     "name": "stderr",
     "output_type": "stream",
     "text": [
      "C:\\Users\\Aman Sinha\\AppData\\Local\\Programs\\Python\\Python311\\Lib\\site-packages\\huggingface_hub\\file_download.py:943: FutureWarning: `resume_download` is deprecated and will be removed in version 1.0.0. Downloads always resume when possible. If you want to force a new download, use `force_download=True`.\n",
      "  warnings.warn(\n"
     ]
    },
    {
     "data": {
      "application/vnd.jupyter.widget-view+json": {
       "model_id": "b0f227558cca4deab168fa8b72e03acb",
       "version_major": 2,
       "version_minor": 0
      },
      "text/plain": [
       "config.json:   0%|          | 0.00/443 [00:00<?, ?B/s]"
      ]
     },
     "metadata": {},
     "output_type": "display_data"
    },
    {
     "name": "stderr",
     "output_type": "stream",
     "text": [
      "C:\\Users\\Aman Sinha\\AppData\\Local\\Programs\\Python\\Python311\\Lib\\site-packages\\huggingface_hub\\file_download.py:143: UserWarning: `huggingface_hub` cache-system uses symlinks by default to efficiently store duplicated files but your machine does not support them in C:\\Users\\Aman Sinha\\.cache\\huggingface\\hub\\models--bert-large-uncased-whole-word-masking-finetuned-squad. Caching files will still work but in a degraded version that might require more space on your disk. This warning can be disabled by setting the `HF_HUB_DISABLE_SYMLINKS_WARNING` environment variable. For more details, see https://huggingface.co/docs/huggingface_hub/how-to-cache#limitations.\n",
      "To support symlinks on Windows, you either need to activate Developer Mode or to run Python as an administrator. In order to activate developer mode, see this article: https://docs.microsoft.com/en-us/windows/apps/get-started/enable-your-device-for-development\n",
      "  warnings.warn(message)\n",
      "C:\\Users\\Aman Sinha\\AppData\\Local\\Programs\\Python\\Python311\\Lib\\site-packages\\huggingface_hub\\file_download.py:943: FutureWarning: `resume_download` is deprecated and will be removed in version 1.0.0. Downloads always resume when possible. If you want to force a new download, use `force_download=True`.\n",
      "  warnings.warn(\n",
      "Xet Storage is enabled for this repo, but the 'hf_xet' package is not installed. Falling back to regular HTTP download. For better performance, install the package with: `pip install huggingface_hub[hf_xet]` or `pip install hf_xet`\n"
     ]
    },
    {
     "data": {
      "application/vnd.jupyter.widget-view+json": {
       "model_id": "909bf6f356b9456b995c11b77dde5ce5",
       "version_major": 2,
       "version_minor": 0
      },
      "text/plain": [
       "model.safetensors:   0%|          | 0.00/1.34G [00:00<?, ?B/s]"
      ]
     },
     "metadata": {},
     "output_type": "display_data"
    },
    {
     "name": "stderr",
     "output_type": "stream",
     "text": [
      "Error while downloading from https://huggingface.co/bert-large-uncased-whole-word-masking-finetuned-squad/resolve/main/model.safetensors: HTTPSConnectionPool(host='cas-bridge.xethub.hf.co', port=443): Read timed out.\n",
      "Trying to resume download...\n"
     ]
    },
    {
     "data": {
      "application/vnd.jupyter.widget-view+json": {
       "model_id": "20350b7957d4409db1fdfaeb2104defd",
       "version_major": 2,
       "version_minor": 0
      },
      "text/plain": [
       "model.safetensors:   3%|3         | 41.9M/1.38G [00:00<?, ?B/s]"
      ]
     },
     "metadata": {},
     "output_type": "display_data"
    },
    {
     "name": "stderr",
     "output_type": "stream",
     "text": [
      "Xet Storage is enabled for this repo, but the 'hf_xet' package is not installed. Falling back to regular HTTP download. For better performance, install the package with: `pip install huggingface_hub[hf_xet]` or `pip install hf_xet`\n"
     ]
    },
    {
     "data": {
      "application/vnd.jupyter.widget-view+json": {
       "model_id": "8e002a53bcaf4db4859db574c587c8eb",
       "version_major": 2,
       "version_minor": 0
      },
      "text/plain": [
       "model.safetensors:   4%|3         | 52.4M/1.39G [00:00<?, ?B/s]"
      ]
     },
     "metadata": {},
     "output_type": "display_data"
    },
    {
     "name": "stdout",
     "output_type": "stream",
     "text": [
      "WARNING:tensorflow:From C:\\Users\\Aman Sinha\\AppData\\Local\\Programs\\Python\\Python311\\Lib\\site-packages\\keras\\src\\backend.py:873: The name tf.get_default_graph is deprecated. Please use tf.compat.v1.get_default_graph instead.\n",
      "\n"
     ]
    },
    {
     "name": "stderr",
     "output_type": "stream",
     "text": [
      "All PyTorch model weights were used when initializing TFBertForQuestionAnswering.\n",
      "\n",
      "All the weights of TFBertForQuestionAnswering were initialized from the PyTorch model.\n",
      "If your task is similar to the task the model of the checkpoint was trained on, you can already use TFBertForQuestionAnswering for predictions without further training.\n"
     ]
    },
    {
     "data": {
      "application/vnd.jupyter.widget-view+json": {
       "model_id": "53619d2674a14e7d98e32b810a4a3dca",
       "version_major": 2,
       "version_minor": 0
      },
      "text/plain": [
       "tokenizer_config.json:   0%|          | 0.00/48.0 [00:00<?, ?B/s]"
      ]
     },
     "metadata": {},
     "output_type": "display_data"
    },
    {
     "data": {
      "application/vnd.jupyter.widget-view+json": {
       "model_id": "da7977c4ad54480d96cb6f9ddf2edc11",
       "version_major": 2,
       "version_minor": 0
      },
      "text/plain": [
       "vocab.txt:   0%|          | 0.00/232k [00:00<?, ?B/s]"
      ]
     },
     "metadata": {},
     "output_type": "display_data"
    },
    {
     "data": {
      "application/vnd.jupyter.widget-view+json": {
       "model_id": "1e06465fda18489da148bd067ffd660a",
       "version_major": 2,
       "version_minor": 0
      },
      "text/plain": [
       "tokenizer.json:   0%|          | 0.00/466k [00:00<?, ?B/s]"
      ]
     },
     "metadata": {},
     "output_type": "display_data"
    }
   ],
   "source": [
    "from transformers import pipeline\n",
    "\n",
    "# Creating a QA pipeline using a pretrained BERT model fine-tuned on SQUAD\n",
    "# 'question-answering' = task name\n",
    "# 'bert-large-uncased-whole-word-masking-finetuned-squad' = pretrained model trained for QA\n",
    "qa_pipeline = pipeline(\n",
    "    task =\"question-answering\",\n",
    "    model = \"bert-large-uncased-whole-word-masking-finetuned-squad\",\n",
    "    tokenizer = \"bert-large-uncased-whole-word-masking-finetuned-squad\"\n",
    ")"
   ]
  },
  {
   "cell_type": "markdown",
   "id": "00701a01-bd18-43bc-8cc8-77455fd8ea51",
   "metadata": {},
   "source": [
    "# Provinding the Context and Question"
   ]
  },
  {
   "cell_type": "code",
   "execution_count": 24,
   "id": "65e155db-90fa-404c-b77d-6026a8caaffa",
   "metadata": {},
   "outputs": [],
   "source": [
    "# Define a paragraph(context) from which the model should extract answers\n",
    "context='''The Indian Space Research Organisation (ISRO) is the space agency of the Government of India.\n",
    "ISRO is responsible for India's space program, and its headquarters are located in Bengaluru, India.\n",
    "It was founded in 1969 by Dr. Vikram Sarabhai because he wanted to. \n",
    "ISRO has launched missions like Chandrayaan, Mangalyaan, and Gaganyaan.'''\n",
    "\n",
    "# Define a question based on the context\n",
    "question= \"What is the full form of ISRO?\"\n"
   ]
  },
  {
   "cell_type": "markdown",
   "id": "b6cdf3b4-d7d9-4244-9462-72c3bd0da0ad",
   "metadata": {},
   "source": [
    "## Run the QA pipeline"
   ]
  },
  {
   "cell_type": "code",
   "execution_count": 25,
   "id": "e0f1c832-cca5-4c1d-afd6-1b6d89ff06b3",
   "metadata": {},
   "outputs": [],
   "source": [
    "result = qa_pipeline({\n",
    "    \"context\": context, \n",
    "    \"question\": question\n",
    "})"
   ]
  },
  {
   "cell_type": "markdown",
   "id": "81df9710-5c4b-4f34-a0a3-ee26b9237f7d",
   "metadata": {},
   "source": [
    "## Display the answer"
   ]
  },
  {
   "cell_type": "code",
   "execution_count": 26,
   "id": "fa759fe3-d177-40c8-ada0-119cfed864a9",
   "metadata": {},
   "outputs": [
    {
     "name": "stdout",
     "output_type": "stream",
     "text": [
      "Answer: Indian Space Research Organisation\n"
     ]
    }
   ],
   "source": [
    "print(\"Answer:\", result[\"answer\"])"
   ]
  },
  {
   "cell_type": "code",
   "execution_count": 30,
   "id": "73ddfca2-a02b-4119-8cad-68549903103e",
   "metadata": {},
   "outputs": [],
   "source": [
    "question= \"When ISRO was founded?\"\n",
    "result = qa_pipeline({\n",
    "    \"context\": context, \n",
    "    \"question\": question\n",
    "})"
   ]
  },
  {
   "cell_type": "code",
   "execution_count": 31,
   "id": "92809ac5-606f-4cb3-ab18-eece7a406804",
   "metadata": {},
   "outputs": [
    {
     "name": "stdout",
     "output_type": "stream",
     "text": [
      "Answer: 1969\n"
     ]
    }
   ],
   "source": [
    "print(\"Answer:\", result[\"answer\"])"
   ]
  }
 ],
 "metadata": {
  "kernelspec": {
   "display_name": "Python 3 (ipykernel)",
   "language": "python",
   "name": "python3"
  },
  "language_info": {
   "codemirror_mode": {
    "name": "ipython",
    "version": 3
   },
   "file_extension": ".py",
   "mimetype": "text/x-python",
   "name": "python",
   "nbconvert_exporter": "python",
   "pygments_lexer": "ipython3",
   "version": "3.11.0"
  }
 },
 "nbformat": 4,
 "nbformat_minor": 5
}
