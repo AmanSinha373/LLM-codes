{
 "cells": [
  {
   "cell_type": "markdown",
   "id": "9c5e3772-2921-4047-a473-b5da7a9a2080",
   "metadata": {},
   "source": [
    "## Generate BERT Embeddings"
   ]
  },
  {
   "cell_type": "markdown",
   "id": "10b46adc-2c1f-41d7-9716-52c39f977441",
   "metadata": {},
   "source": [
    "# Import Model"
   ]
  },
  {
   "cell_type": "code",
   "execution_count": 1,
   "id": "37bc4c5c-c176-4634-9c82-dd8f6a524a6b",
   "metadata": {},
   "outputs": [],
   "source": [
    "from transformers import BertModel, BertTokenizer\n",
    "import torch"
   ]
  },
  {
   "cell_type": "markdown",
   "id": "a13e3b54-41da-4bf0-8048-faa93ab80b50",
   "metadata": {},
   "source": [
    "# Load tokenizer and model"
   ]
  },
  {
   "cell_type": "code",
   "execution_count": 4,
   "id": "0de802dc-22d6-4e43-8685-175a5a10f8fe",
   "metadata": {},
   "outputs": [
    {
     "data": {
      "application/vnd.jupyter.widget-view+json": {
       "model_id": "c22cb14c11414ac19bd35943c94072bd",
       "version_major": 2,
       "version_minor": 0
      },
      "text/plain": [
       "Downloading model.safetensors:   0%|          | 0.00/440M [00:00<?, ?B/s]"
      ]
     },
     "metadata": {},
     "output_type": "display_data"
    },
    {
     "name": "stderr",
     "output_type": "stream",
     "text": [
      "C:\\Users\\Aman Sinha\\AppData\\Local\\Programs\\Python\\Python311\\Lib\\site-packages\\huggingface_hub\\file_download.py:133: UserWarning: `huggingface_hub` cache-system uses symlinks by default to efficiently store duplicated files but your machine does not support them in C:\\Users\\Aman Sinha\\.cache\\huggingface\\hub. Caching files will still work but in a degraded version that might require more space on your disk. This warning can be disabled by setting the `HF_HUB_DISABLE_SYMLINKS_WARNING` environment variable. For more details, see https://huggingface.co/docs/huggingface_hub/how-to-cache#limitations.\n",
      "To support symlinks on Windows, you either need to activate Developer Mode or to run Python as an administrator. In order to see activate developer mode, see this article: https://docs.microsoft.com/en-us/windows/apps/get-started/enable-your-device-for-development\n",
      "  warnings.warn(message)\n"
     ]
    }
   ],
   "source": [
    "tokenizer= BertTokenizer.from_pretrained('bert-base-uncased')\n",
    "model= BertModel.from_pretrained('bert-base-uncased')"
   ]
  },
  {
   "cell_type": "markdown",
   "id": "a6316de9-0b9f-4245-8ddf-e0915c7af7fb",
   "metadata": {},
   "source": [
    "# Input text"
   ]
  },
  {
   "cell_type": "code",
   "execution_count": 6,
   "id": "bcc215c0-719c-400e-8dc9-32bd595a79d6",
   "metadata": {},
   "outputs": [],
   "source": [
    "text = \"I want to kill myself again\"\n",
    "inputs = tokenizer(text, return_tensors='pt')\n"
   ]
  },
  {
   "cell_type": "markdown",
   "id": "d50d261b-070c-4595-87f0-c3a50d1e2bca",
   "metadata": {},
   "source": [
    "## Get Embeddings"
   ]
  },
  {
   "cell_type": "code",
   "execution_count": 7,
   "id": "06244247-770e-4da3-9e62-87f55d2e127e",
   "metadata": {},
   "outputs": [],
   "source": [
    "outputs = model(**inputs)\n",
    "embeddings = outputs.last_hidden_state"
   ]
  },
  {
   "cell_type": "code",
   "execution_count": 9,
   "id": "0a4c1690-2e30-4441-976c-73916f107524",
   "metadata": {},
   "outputs": [
    {
     "name": "stdout",
     "output_type": "stream",
     "text": [
      "Shape of embeddings: torch.Size([1, 8, 768])\n"
     ]
    }
   ],
   "source": [
    "print(\"Shape of embeddings:\", embeddings.shape)"
   ]
  },
  {
   "cell_type": "markdown",
   "id": "6b434204-a86f-408e-ab9b-dec480418623",
   "metadata": {},
   "source": [
    "| Dimension | Meaning                                                |\n",
    "| --------- | ------------------------------------------------------ |\n",
    "| `1`       | Batch size                                             |\n",
    "| `4`       | Number of tokens (e.g., \\[CLS], I, love, transformers) |\n",
    "| `768`     | Each token represented by a 768-dimensional vector     |\n"
   ]
  },
  {
   "cell_type": "code",
   "execution_count": null,
   "id": "33c0c41d-5822-4568-8f4e-8b93cc191dc9",
   "metadata": {},
   "outputs": [],
   "source": []
  }
 ],
 "metadata": {
  "kernelspec": {
   "display_name": "Python 3 (ipykernel)",
   "language": "python",
   "name": "python3"
  },
  "language_info": {
   "codemirror_mode": {
    "name": "ipython",
    "version": 3
   },
   "file_extension": ".py",
   "mimetype": "text/x-python",
   "name": "python",
   "nbconvert_exporter": "python",
   "pygments_lexer": "ipython3",
   "version": "3.11.0"
  }
 },
 "nbformat": 4,
 "nbformat_minor": 5
}
