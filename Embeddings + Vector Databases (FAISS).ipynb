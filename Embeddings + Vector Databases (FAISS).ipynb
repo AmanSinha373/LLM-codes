{
 "cells": [
  {
   "cell_type": "code",
   "execution_count": 1,
   "id": "b121a78c-fe20-4565-98f2-9b072a57507a",
   "metadata": {},
   "outputs": [],
   "source": [
    "# Install sentence-transformers (for embeddings) and faiss-cpu (vector database)\n",
    "# !pip install -q sentence-transformers faiss-cpu\n",
    "\n"
   ]
  },
  {
   "cell_type": "markdown",
   "id": "57ee0870-1bed-4795-add7-38d88550cebd",
   "metadata": {},
   "source": [
    "## Load Sentence Embedding Model"
   ]
  },
  {
   "cell_type": "code",
   "execution_count": 2,
   "id": "f04bfe62-7457-4d16-8b92-918709c2d191",
   "metadata": {},
   "outputs": [
    {
     "data": {
      "application/vnd.jupyter.widget-view+json": {
       "model_id": "38905fc6c89a47d5838084e88f8463c8",
       "version_major": 2,
       "version_minor": 0
      },
      "text/plain": [
       "modules.json:   0%|          | 0.00/349 [00:00<?, ?B/s]"
      ]
     },
     "metadata": {},
     "output_type": "display_data"
    },
    {
     "name": "stderr",
     "output_type": "stream",
     "text": [
      "C:\\Users\\Aman Sinha\\AppData\\Local\\Programs\\Python\\Python311\\Lib\\site-packages\\huggingface_hub\\file_download.py:157: UserWarning: `huggingface_hub` cache-system uses symlinks by default to efficiently store duplicated files but your machine does not support them in C:\\Users\\Aman Sinha\\.cache\\huggingface\\hub\\models--sentence-transformers--all-MiniLM-L6-v2. Caching files will still work but in a degraded version that might require more space on your disk. This warning can be disabled by setting the `HF_HUB_DISABLE_SYMLINKS_WARNING` environment variable. For more details, see https://huggingface.co/docs/huggingface_hub/how-to-cache#limitations.\n",
      "To support symlinks on Windows, you either need to activate Developer Mode or to run Python as an administrator. In order to see activate developer mode, see this article: https://docs.microsoft.com/en-us/windows/apps/get-started/enable-your-device-for-development\n",
      "  warnings.warn(message)\n"
     ]
    },
    {
     "data": {
      "application/vnd.jupyter.widget-view+json": {
       "model_id": "50b3dab8858b4f809cee1e2cdce5eada",
       "version_major": 2,
       "version_minor": 0
      },
      "text/plain": [
       "config_sentence_transformers.json:   0%|          | 0.00/116 [00:00<?, ?B/s]"
      ]
     },
     "metadata": {},
     "output_type": "display_data"
    },
    {
     "data": {
      "application/vnd.jupyter.widget-view+json": {
       "model_id": "9cca95bcbcfb4ddab54ab7185a77a292",
       "version_major": 2,
       "version_minor": 0
      },
      "text/plain": [
       "README.md: 0.00B [00:00, ?B/s]"
      ]
     },
     "metadata": {},
     "output_type": "display_data"
    },
    {
     "data": {
      "application/vnd.jupyter.widget-view+json": {
       "model_id": "2eebd1bf23304cf6b4e4dc55f43addb3",
       "version_major": 2,
       "version_minor": 0
      },
      "text/plain": [
       "sentence_bert_config.json:   0%|          | 0.00/53.0 [00:00<?, ?B/s]"
      ]
     },
     "metadata": {},
     "output_type": "display_data"
    },
    {
     "name": "stderr",
     "output_type": "stream",
     "text": [
      "C:\\Users\\Aman Sinha\\AppData\\Local\\Programs\\Python\\Python311\\Lib\\site-packages\\huggingface_hub\\file_download.py:1132: FutureWarning: `resume_download` is deprecated and will be removed in version 1.0.0. Downloads always resume when possible. If you want to force a new download, use `force_download=True`.\n",
      "  warnings.warn(\n"
     ]
    },
    {
     "data": {
      "application/vnd.jupyter.widget-view+json": {
       "model_id": "cc42d77545384de0a24ab5f3ac22ad5b",
       "version_major": 2,
       "version_minor": 0
      },
      "text/plain": [
       "config.json:   0%|          | 0.00/612 [00:00<?, ?B/s]"
      ]
     },
     "metadata": {},
     "output_type": "display_data"
    },
    {
     "name": "stderr",
     "output_type": "stream",
     "text": [
      "C:\\Users\\Aman Sinha\\AppData\\Local\\Programs\\Python\\Python311\\Lib\\site-packages\\huggingface_hub\\file_download.py:1132: FutureWarning: `resume_download` is deprecated and will be removed in version 1.0.0. Downloads always resume when possible. If you want to force a new download, use `force_download=True`.\n",
      "  warnings.warn(\n"
     ]
    },
    {
     "data": {
      "application/vnd.jupyter.widget-view+json": {
       "model_id": "4cc3a5d81a1f4e719f3d1aa3076af5ef",
       "version_major": 2,
       "version_minor": 0
      },
      "text/plain": [
       "model.safetensors:   0%|          | 0.00/90.9M [00:00<?, ?B/s]"
      ]
     },
     "metadata": {},
     "output_type": "display_data"
    },
    {
     "data": {
      "application/vnd.jupyter.widget-view+json": {
       "model_id": "71813967bf744de186e9ae0caaf96f75",
       "version_major": 2,
       "version_minor": 0
      },
      "text/plain": [
       "tokenizer_config.json:   0%|          | 0.00/350 [00:00<?, ?B/s]"
      ]
     },
     "metadata": {},
     "output_type": "display_data"
    },
    {
     "data": {
      "application/vnd.jupyter.widget-view+json": {
       "model_id": "428a2aa6e3184abb82703b4b75555a9f",
       "version_major": 2,
       "version_minor": 0
      },
      "text/plain": [
       "vocab.txt: 0.00B [00:00, ?B/s]"
      ]
     },
     "metadata": {},
     "output_type": "display_data"
    },
    {
     "data": {
      "application/vnd.jupyter.widget-view+json": {
       "model_id": "a4db43b8d8df4224be61d5c457ea8302",
       "version_major": 2,
       "version_minor": 0
      },
      "text/plain": [
       "tokenizer.json: 0.00B [00:00, ?B/s]"
      ]
     },
     "metadata": {},
     "output_type": "display_data"
    },
    {
     "data": {
      "application/vnd.jupyter.widget-view+json": {
       "model_id": "68f17eee7ac5479199d32ff8bf392fc7",
       "version_major": 2,
       "version_minor": 0
      },
      "text/plain": [
       "special_tokens_map.json:   0%|          | 0.00/112 [00:00<?, ?B/s]"
      ]
     },
     "metadata": {},
     "output_type": "display_data"
    },
    {
     "data": {
      "application/vnd.jupyter.widget-view+json": {
       "model_id": "1cfd17224bd046619cad41b7213b3788",
       "version_major": 2,
       "version_minor": 0
      },
      "text/plain": [
       "config.json:   0%|          | 0.00/190 [00:00<?, ?B/s]"
      ]
     },
     "metadata": {},
     "output_type": "display_data"
    }
   ],
   "source": [
    "# Import the sentence embedding Model\n",
    "from sentence_transformers import SentenceTransformer\n",
    "\n",
    "# Load a pretrained model that converts text into dense vectors\n",
    "model = SentenceTransformer('all-MiniLM-L6-v2')"
   ]
  },
  {
   "cell_type": "markdown",
   "id": "6261c3b7-a869-45fa-9caf-0c85990c1dcb",
   "metadata": {},
   "source": [
    "## Create Sample Texts to Store in Vector DB"
   ]
  },
  {
   "cell_type": "code",
   "execution_count": 3,
   "id": "e6ea8ae9-6aca-4f88-bd7d-be2562fd8a23",
   "metadata": {},
   "outputs": [],
   "source": [
    "# list of sample texts (these will be converted into vectors)\n",
    "documents = [\n",
    "    \"The capital of India is New Delhi.\",\n",
    "    \"Python is a popular programming language.\",\n",
    "    \"BERT is used for natural language processing tasks.\",\n",
    "    \"The moon landing happened in 1969.\",\n",
    "    \"Machine learning helps computers learn from data.\"\n",
    "]"
   ]
  },
  {
   "cell_type": "markdown",
   "id": "b5deecab-36bb-4589-a1f6-3da5a9da6b37",
   "metadata": {},
   "source": [
    "# Convert Documents to Embeddings (Vectors)"
   ]
  },
  {
   "cell_type": "code",
   "execution_count": 4,
   "id": "c8bf5b44-a78a-4d33-8d09-7c790f3d6274",
   "metadata": {},
   "outputs": [],
   "source": [
    "# Convert all documents into 384 dimensional vector representation\n",
    "# Each vector = mathematical summary of that sentence's meaning\n",
    "doc_embeddings = model.encode(documents)"
   ]
  },
  {
   "cell_type": "markdown",
   "id": "58a08ac4-0c9b-4c2f-b2ad-ddc22bfa1257",
   "metadata": {},
   "source": [
    "# Store in FAISS Vector Database"
   ]
  },
  {
   "cell_type": "code",
   "execution_count": 5,
   "id": "b3aabf0e-7a6b-473d-a8ff-38ba828bbd3e",
   "metadata": {},
   "outputs": [],
   "source": [
    "import faiss # Facebook AI Similiarity Search Library\n",
    "\n",
    "# Get the size of embedding vector (384 in MiniLM)\n",
    "embedding_dim = doc_embeddings.shape[1]\n",
    "\n",
    "# Create FAISS index using L2 (Euclidean) distance\n",
    "index = faiss.IndexFlatL2(embedding_dim) # Flat index = simple, fast for small data\n",
    "\n",
    "# Add all document vectors Into FIASS\n",
    "index.add(doc_embeddings) # now the DB has 5 brian - vectors stored\n"
   ]
  },
  {
   "cell_type": "markdown",
   "id": "3cac2f9d-51c3-4f19-81cf-f95838ecb090",
   "metadata": {},
   "source": [
    "# Perform Semantic Search (Find Similar Documents)"
   ]
  },
  {
   "cell_type": "code",
   "execution_count": 9,
   "id": "9abd6f55-7d26-4bee-ba08-f0b43b2ccad2",
   "metadata": {},
   "outputs": [],
   "source": [
    "# Define a query sentence to Search\n",
    "query = \"Which programming language is most used?\"\n",
    "\n",
    "# Convert query into a vector\n",
    "query_embedding = model.encode([query]) # Always pass as list for batch compatibility\n",
    "\n",
    "# Search top 3 most similar documents from FAISS\n",
    "top_k =3\n",
    "distances, indices = index.search(query_embedding, top_k)\n",
    "# Returns distances (smaller = closed) and matching indices"
   ]
  },
  {
   "cell_type": "markdown",
   "id": "f97367ac-cd8b-4b57-adac-4e6578c4d695",
   "metadata": {},
   "source": [
    "## Display Matching Documents"
   ]
  },
  {
   "cell_type": "code",
   "execution_count": 10,
   "id": "6296d31e-5792-4fa2-bace-351112b27262",
   "metadata": {},
   "outputs": [
    {
     "name": "stdout",
     "output_type": "stream",
     "text": [
      "Query: Which programming language is most used?\n",
      "\n",
      " Top Results:\n",
      "Python is a popular programming language.(Distance: 0.70)\n",
      "BERT is used for natural language processing tasks.(Distance: 1.26)\n",
      "Machine learning helps computers learn from data.(Distance: 1.61)\n"
     ]
    }
   ],
   "source": [
    "#Print out the top-k closest documents to the query\n",
    "print(\"Query:\",query)\n",
    "print(\"\\n Top Results:\")\n",
    "for i, idx in enumerate(indices[0]):\n",
    "    print(f\"{documents[idx]}(Distance: {distances[0][i]:.2f})\")"
   ]
  },
  {
   "cell_type": "code",
   "execution_count": null,
   "id": "853fdb70-cbcd-42a2-a360-7948632db408",
   "metadata": {},
   "outputs": [],
   "source": []
  }
 ],
 "metadata": {
  "kernelspec": {
   "display_name": "Python 3 (ipykernel)",
   "language": "python",
   "name": "python3"
  },
  "language_info": {
   "codemirror_mode": {
    "name": "ipython",
    "version": 3
   },
   "file_extension": ".py",
   "mimetype": "text/x-python",
   "name": "python",
   "nbconvert_exporter": "python",
   "pygments_lexer": "ipython3",
   "version": "3.11.0"
  }
 },
 "nbformat": 4,
 "nbformat_minor": 5
}
