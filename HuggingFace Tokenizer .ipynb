{
 "cells": [
  {
   "cell_type": "markdown",
   "id": "95d06632-3dae-4ea6-8139-2161878e5cd5",
   "metadata": {},
   "source": [
    "## HuggingFace Tokenizer "
   ]
  },
  {
   "cell_type": "markdown",
   "id": "b3686cc5-07c7-4877-a94f-ce694589a0c1",
   "metadata": {},
   "source": [
    "# Import BERT Tokenizer"
   ]
  },
  {
   "cell_type": "code",
   "execution_count": 1,
   "id": "794223f8-b155-48f9-a725-506b77846293",
   "metadata": {},
   "outputs": [],
   "source": [
    "from transformers import BertTokenizer"
   ]
  },
  {
   "cell_type": "markdown",
   "id": "212dda8b-ced0-4070-8c01-6a0b3d518a98",
   "metadata": {},
   "source": [
    "## Load pretrained tokenizer"
   ]
  },
  {
   "cell_type": "code",
   "execution_count": 3,
   "id": "5bf62950-1670-4123-b164-87def2b8e860",
   "metadata": {},
   "outputs": [],
   "source": [
    "tokenizer= BertTokenizer.from_pretrained('bert-base-uncased')"
   ]
  },
  {
   "cell_type": "markdown",
   "id": "2e3106f2-3833-4c10-af0f-de34ddd37c9e",
   "metadata": {},
   "source": [
    "# Encode some text"
   ]
  },
  {
   "cell_type": "code",
   "execution_count": 6,
   "id": "755f9754-62eb-4683-a040-10f12a6a2435",
   "metadata": {},
   "outputs": [],
   "source": [
    "text = \" I want to kill myself and die\"\n",
    "tokens=tokenizer.tokenize(text)\n",
    "token_ids= tokenizer.convert_tokens_to_ids(tokens)"
   ]
  },
  {
   "cell_type": "code",
   "execution_count": null,
   "id": "bcd46696-1a00-4ed8-afaa-5cabe8e8ecc6",
   "metadata": {},
   "outputs": [],
   "source": [
    "print(\"Tokens:"
   ]
  }
 ],
 "metadata": {
  "kernelspec": {
   "display_name": "Python 3 (ipykernel)",
   "language": "python",
   "name": "python3"
  },
  "language_info": {
   "codemirror_mode": {
    "name": "ipython",
    "version": 3
   },
   "file_extension": ".py",
   "mimetype": "text/x-python",
   "name": "python",
   "nbconvert_exporter": "python",
   "pygments_lexer": "ipython3",
   "version": "3.11.0"
  }
 },
 "nbformat": 4,
 "nbformat_minor": 5
}
